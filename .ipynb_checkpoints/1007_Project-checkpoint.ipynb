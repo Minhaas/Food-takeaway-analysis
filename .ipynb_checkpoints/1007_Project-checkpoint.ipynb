{
 "cells": [
  {
   "cell_type": "code",
   "execution_count": 1,
   "id": "8c595b74",
   "metadata": {},
   "outputs": [],
   "source": [
    "import pandas as pd\n",
    "import numpy as np\n",
    "import matplotlib.pyplot as plt"
   ]
  },
  {
   "cell_type": "code",
   "execution_count": 2,
   "id": "c32a44ad",
   "metadata": {},
   "outputs": [
    {
     "name": "stdout",
     "output_type": "stream",
     "text": [
      "Restaurant1 orders has 74818 rows and 6 columns.\n",
      "Restaurant2 orders has 119183 rows and 6 columns.\n",
      "Restaurant1 price has 248 rows and 2 columns.\n",
      "Restaurant2 price has 302 rows and 2 columns.\n"
     ]
    }
   ],
   "source": [
    "# In orders.csv files, each row represnting a single product for every order\n",
    "orders_1_df = pd.read_csv('./data/restaurant-1-orders.csv', delimiter=',', nrows = None)\n",
    "orders_2_df = pd.read_csv('./data/restaurant-2-orders.csv', delimiter=',', nrows = None)\n",
    "\n",
    "# In price.csv files, Each row representing a single product and its price\n",
    "products_price_1_df = pd.read_csv('./data/restaurant-1-products-price.csv', delimiter=',', nrows = None)\n",
    "products_price_2_df = pd.read_csv('./data/restaurant-2-products-price.csv', delimiter=',', nrows = None)\n",
    "\n",
    "#price1 = np.loadtxt('restaurant-1-products-price.csv', delimiter=',', skiprows=1, usecols =1)\n",
    "#price2 = np.loadtxt('restaurant-2-products-price.csv', delimiter=',', skiprows=1, usecols =1)\n",
    "\n",
    "nRow1, nCol1 = orders_1_df.shape\n",
    "nRow2, nCol2 = orders_2_df.shape\n",
    "nRow3, nCol3 = products_price_1_df.shape\n",
    "nRow4, nCol4 = products_price_2_df.shape\n",
    "\n",
    "print(f'Restaurant1 orders has {nRow1} rows and {nCol1} columns.')\n",
    "print(f'Restaurant2 orders has {nRow2} rows and {nCol2} columns.')\n",
    "print(f'Restaurant1 price has {nRow3} rows and {nCol3} columns.')\n",
    "print(f'Restaurant2 price has {nRow4} rows and {nCol4} columns.')"
   ]
  },
  {
   "cell_type": "code",
   "execution_count": 3,
   "id": "f9cc0436",
   "metadata": {},
   "outputs": [
    {
     "data": {
      "text/html": [
       "<div>\n",
       "<style scoped>\n",
       "    .dataframe tbody tr th:only-of-type {\n",
       "        vertical-align: middle;\n",
       "    }\n",
       "\n",
       "    .dataframe tbody tr th {\n",
       "        vertical-align: top;\n",
       "    }\n",
       "\n",
       "    .dataframe thead th {\n",
       "        text-align: right;\n",
       "    }\n",
       "</style>\n",
       "<table border=\"1\" class=\"dataframe\">\n",
       "  <thead>\n",
       "    <tr style=\"text-align: right;\">\n",
       "      <th></th>\n",
       "      <th>Order Number</th>\n",
       "      <th>Order Date</th>\n",
       "      <th>Item Name</th>\n",
       "      <th>Quantity</th>\n",
       "      <th>Product Price</th>\n",
       "      <th>Total products</th>\n",
       "    </tr>\n",
       "  </thead>\n",
       "  <tbody>\n",
       "    <tr>\n",
       "      <th>0</th>\n",
       "      <td>16118</td>\n",
       "      <td>03/08/2019 20:25</td>\n",
       "      <td>Plain Papadum</td>\n",
       "      <td>2</td>\n",
       "      <td>0.80</td>\n",
       "      <td>6</td>\n",
       "    </tr>\n",
       "    <tr>\n",
       "      <th>1</th>\n",
       "      <td>16118</td>\n",
       "      <td>03/08/2019 20:25</td>\n",
       "      <td>King Prawn Balti</td>\n",
       "      <td>1</td>\n",
       "      <td>12.95</td>\n",
       "      <td>6</td>\n",
       "    </tr>\n",
       "    <tr>\n",
       "      <th>2</th>\n",
       "      <td>16118</td>\n",
       "      <td>03/08/2019 20:25</td>\n",
       "      <td>Garlic Naan</td>\n",
       "      <td>1</td>\n",
       "      <td>2.95</td>\n",
       "      <td>6</td>\n",
       "    </tr>\n",
       "    <tr>\n",
       "      <th>3</th>\n",
       "      <td>16118</td>\n",
       "      <td>03/08/2019 20:25</td>\n",
       "      <td>Mushroom Rice</td>\n",
       "      <td>1</td>\n",
       "      <td>3.95</td>\n",
       "      <td>6</td>\n",
       "    </tr>\n",
       "    <tr>\n",
       "      <th>4</th>\n",
       "      <td>16118</td>\n",
       "      <td>03/08/2019 20:25</td>\n",
       "      <td>Paneer Tikka Masala</td>\n",
       "      <td>1</td>\n",
       "      <td>8.95</td>\n",
       "      <td>6</td>\n",
       "    </tr>\n",
       "  </tbody>\n",
       "</table>\n",
       "</div>"
      ],
      "text/plain": [
       "   Order Number        Order Date            Item Name  Quantity  \\\n",
       "0         16118  03/08/2019 20:25        Plain Papadum         2   \n",
       "1         16118  03/08/2019 20:25     King Prawn Balti         1   \n",
       "2         16118  03/08/2019 20:25          Garlic Naan         1   \n",
       "3         16118  03/08/2019 20:25        Mushroom Rice         1   \n",
       "4         16118  03/08/2019 20:25  Paneer Tikka Masala         1   \n",
       "\n",
       "   Product Price  Total products  \n",
       "0           0.80               6  \n",
       "1          12.95               6  \n",
       "2           2.95               6  \n",
       "3           3.95               6  \n",
       "4           8.95               6  "
      ]
     },
     "execution_count": 3,
     "metadata": {},
     "output_type": "execute_result"
    }
   ],
   "source": [
    "orders_1_df.head(5)"
   ]
  },
  {
   "cell_type": "code",
   "execution_count": 4,
   "id": "6b18de83",
   "metadata": {},
   "outputs": [],
   "source": [
    "orders_1_df['Item Name'] = orders_1_df['Item Name'].str.replace('-','')\n",
    "orders_2_df['Item Name'] = orders_2_df['Item Name'].str.replace('-','')\n",
    "products_price_1_df['Item Name'] = products_price_1_df['Item Name'].str.replace('-','')\n",
    "products_price_2_df['Item Name'] = products_price_2_df['Item Name'].str.replace('-','')"
   ]
  },
  {
   "cell_type": "code",
   "execution_count": 5,
   "id": "67dfe7c6",
   "metadata": {},
   "outputs": [
    {
     "data": {
      "text/html": [
       "<div>\n",
       "<style scoped>\n",
       "    .dataframe tbody tr th:only-of-type {\n",
       "        vertical-align: middle;\n",
       "    }\n",
       "\n",
       "    .dataframe tbody tr th {\n",
       "        vertical-align: top;\n",
       "    }\n",
       "\n",
       "    .dataframe thead th {\n",
       "        text-align: right;\n",
       "    }\n",
       "</style>\n",
       "<table border=\"1\" class=\"dataframe\">\n",
       "  <thead>\n",
       "    <tr style=\"text-align: right;\">\n",
       "      <th></th>\n",
       "      <th>Item Name</th>\n",
       "      <th>Product Price</th>\n",
       "    </tr>\n",
       "  </thead>\n",
       "  <tbody>\n",
       "    <tr>\n",
       "      <th>0</th>\n",
       "      <td>Mint Sauce</td>\n",
       "      <td>0.5</td>\n",
       "    </tr>\n",
       "    <tr>\n",
       "      <th>1</th>\n",
       "      <td>Lime Pickle</td>\n",
       "      <td>0.5</td>\n",
       "    </tr>\n",
       "    <tr>\n",
       "      <th>2</th>\n",
       "      <td>Mango Chutney</td>\n",
       "      <td>0.5</td>\n",
       "    </tr>\n",
       "    <tr>\n",
       "      <th>3</th>\n",
       "      <td>Red Sauce</td>\n",
       "      <td>0.5</td>\n",
       "    </tr>\n",
       "    <tr>\n",
       "      <th>4</th>\n",
       "      <td>Onion Chutney</td>\n",
       "      <td>0.5</td>\n",
       "    </tr>\n",
       "  </tbody>\n",
       "</table>\n",
       "</div>"
      ],
      "text/plain": [
       "       Item Name  Product Price\n",
       "0     Mint Sauce            0.5\n",
       "1    Lime Pickle            0.5\n",
       "2  Mango Chutney            0.5\n",
       "3      Red Sauce            0.5\n",
       "4  Onion Chutney            0.5"
      ]
     },
     "execution_count": 5,
     "metadata": {},
     "output_type": "execute_result"
    }
   ],
   "source": [
    "products_price_1_df.head(5)"
   ]
  },
  {
   "cell_type": "code",
   "execution_count": 6,
   "id": "730ad688",
   "metadata": {},
   "outputs": [
    {
     "data": {
      "text/html": [
       "<div>\n",
       "<style scoped>\n",
       "    .dataframe tbody tr th:only-of-type {\n",
       "        vertical-align: middle;\n",
       "    }\n",
       "\n",
       "    .dataframe tbody tr th {\n",
       "        vertical-align: top;\n",
       "    }\n",
       "\n",
       "    .dataframe thead th {\n",
       "        text-align: right;\n",
       "    }\n",
       "</style>\n",
       "<table border=\"1\" class=\"dataframe\">\n",
       "  <thead>\n",
       "    <tr style=\"text-align: right;\">\n",
       "      <th></th>\n",
       "      <th>Item Name</th>\n",
       "      <th>Product Price</th>\n",
       "    </tr>\n",
       "  </thead>\n",
       "  <tbody>\n",
       "    <tr>\n",
       "      <th>0</th>\n",
       "      <td>Onion Chutney</td>\n",
       "      <td>0.5</td>\n",
       "    </tr>\n",
       "    <tr>\n",
       "      <th>1</th>\n",
       "      <td>Mint Sauce</td>\n",
       "      <td>0.5</td>\n",
       "    </tr>\n",
       "    <tr>\n",
       "      <th>2</th>\n",
       "      <td>Mango Chutney</td>\n",
       "      <td>0.5</td>\n",
       "    </tr>\n",
       "    <tr>\n",
       "      <th>3</th>\n",
       "      <td>Red Sauce</td>\n",
       "      <td>0.5</td>\n",
       "    </tr>\n",
       "    <tr>\n",
       "      <th>4</th>\n",
       "      <td>Lime Pickle</td>\n",
       "      <td>0.5</td>\n",
       "    </tr>\n",
       "  </tbody>\n",
       "</table>\n",
       "</div>"
      ],
      "text/plain": [
       "       Item Name  Product Price\n",
       "0  Onion Chutney            0.5\n",
       "1     Mint Sauce            0.5\n",
       "2  Mango Chutney            0.5\n",
       "3      Red Sauce            0.5\n",
       "4    Lime Pickle            0.5"
      ]
     },
     "execution_count": 6,
     "metadata": {},
     "output_type": "execute_result"
    }
   ],
   "source": [
    "products_price_2_df.head(5)"
   ]
  },
  {
   "cell_type": "raw",
   "id": "1e277157",
   "metadata": {},
   "source": [
    "Price:\n",
    "1. Compare the min, max, mean, std for item prices in resturaunt 1 and 2\n",
    "\n",
    "Restaurant:\n",
    "2. Which restaurant has the most number of orders?\n",
    "3. And which one is more affordable?\n",
    "4. What are the most/least popular items?\n",
    "5. Are all items order, if no, what are items that have never been order?\n",
    "6. What day/time have the most orders? Is it for any specific holidays?\n",
    "7. How much does each customer spend on an order on average? And how many items?\n",
    "8. What are the recurring items for recurring customers? How often do they order?\n",
    "\n",
    "Rest & Price\n",
    "Join to show individual price of an item compared to the whole order price?\n",
    "9. What are the similarities and differences of the orders for the 2 restaurants?"
   ]
  },
  {
   "cell_type": "raw",
   "id": "4516f65b",
   "metadata": {},
   "source": [
    "HW1- recursive & iterative functions(Sum/factorial)/char_count function(dict,key,value)/class(), point distances\n",
    "\n",
    "HW2- runtime, avg runtime/ selection, merge, bubble sort/ Linux commands to find count and unique values\n",
    "\n",
    "HW3- numpy shape, min, max, avg, std/ matrix calc/ plt"
   ]
  },
  {
   "cell_type": "code",
   "execution_count": 7,
   "id": "ab7a43fd",
   "metadata": {},
   "outputs": [
    {
     "name": "stdout",
     "output_type": "stream",
     "text": [
      "Minimum price for an item in restaurant1:  0.5\n",
      "Maximum price for an item in restaurant1:  17.95\n",
      "Mean price for an item in restaurant1:     7.981048387096797\n",
      "Std price for an item in restaurant1:      3.3262335554896665 \n",
      "\n",
      "Minimum price for an item in restaurant2:  0.5\n",
      "Maximum price for an item in restaurant2:  17.95\n",
      "Mean price for an item in restaurant2:     8.097847682119209\n",
      "Std price for an item in restaurant2:      3.126654300196107\n"
     ]
    }
   ],
   "source": [
    "# q1\n",
    "min_prod_price_1 = products_price_1_df['Product Price'].min()\n",
    "max_prod_price_1 = products_price_1_df['Product Price'].max()\n",
    "mean_prod_price_1 = products_price_1_df['Product Price'].mean()\n",
    "std_prod_price_1 = products_price_1_df['Product Price'].std()\n",
    "\n",
    "min_prod_price_2 = products_price_2_df['Product Price'].min()\n",
    "max_prod_price_2 = products_price_2_df['Product Price'].max()\n",
    "mean_prod_price_2 = products_price_2_df['Product Price'].mean()\n",
    "std_prod_price_2 = products_price_2_df['Product Price'].std()\n",
    "print(\"Minimum price for an item in restaurant1: \",min_prod_price_1)\n",
    "print(\"Maximum price for an item in restaurant1: \",max_prod_price_1)\n",
    "print(\"Mean price for an item in restaurant1:    \",mean_prod_price_1)\n",
    "print(\"Std price for an item in restaurant1:     \",std_prod_price_1, \"\\n\")\n",
    "\n",
    "print(\"Minimum price for an item in restaurant2: \",min_prod_price_2)\n",
    "print(\"Maximum price for an item in restaurant2: \",max_prod_price_2)\n",
    "print(\"Mean price for an item in restaurant2:    \",mean_prod_price_2)\n",
    "print(\"Std price for an item in restaurant2:     \",std_prod_price_2)\n",
    "\n",
    "# use a bar plot chart to show the distribution of the data"
   ]
  },
  {
   "cell_type": "code",
   "execution_count": 8,
   "id": "2b91e038",
   "metadata": {},
   "outputs": [
    {
     "data": {
      "text/html": [
       "<div>\n",
       "<style scoped>\n",
       "    .dataframe tbody tr th:only-of-type {\n",
       "        vertical-align: middle;\n",
       "    }\n",
       "\n",
       "    .dataframe tbody tr th {\n",
       "        vertical-align: top;\n",
       "    }\n",
       "\n",
       "    .dataframe thead th {\n",
       "        text-align: right;\n",
       "    }\n",
       "</style>\n",
       "<table border=\"1\" class=\"dataframe\">\n",
       "  <thead>\n",
       "    <tr style=\"text-align: right;\">\n",
       "      <th></th>\n",
       "      <th>Restaurant 1</th>\n",
       "      <th>Restaurant 2</th>\n",
       "    </tr>\n",
       "  </thead>\n",
       "  <tbody>\n",
       "    <tr>\n",
       "      <th>min</th>\n",
       "      <td>0.500000</td>\n",
       "      <td>0.500000</td>\n",
       "    </tr>\n",
       "    <tr>\n",
       "      <th>max</th>\n",
       "      <td>17.950000</td>\n",
       "      <td>17.950000</td>\n",
       "    </tr>\n",
       "    <tr>\n",
       "      <th>mean</th>\n",
       "      <td>7.981048</td>\n",
       "      <td>8.097848</td>\n",
       "    </tr>\n",
       "    <tr>\n",
       "      <th>std</th>\n",
       "      <td>3.326234</td>\n",
       "      <td>3.126654</td>\n",
       "    </tr>\n",
       "  </tbody>\n",
       "</table>\n",
       "</div>"
      ],
      "text/plain": [
       "      Restaurant 1  Restaurant 2\n",
       "min       0.500000      0.500000\n",
       "max      17.950000     17.950000\n",
       "mean      7.981048      8.097848\n",
       "std       3.326234      3.126654"
      ]
     },
     "execution_count": 8,
     "metadata": {},
     "output_type": "execute_result"
    }
   ],
   "source": [
    "plotdata = pd.DataFrame({\"Restaurant 1\":[min_prod_price_1, max_prod_price_1,mean_prod_price_1,std_prod_price_1],\n",
    "                        \"Restaurant 2\":[min_prod_price_2,max_prod_price_2,mean_prod_price_2,std_prod_price_2]},\n",
    "                        index=[\"min\", \"max\", \"mean\", \"std\"]\n",
    ")\n",
    "plotdata"
   ]
  },
  {
   "cell_type": "code",
   "execution_count": 9,
   "id": "b2be771f",
   "metadata": {},
   "outputs": [
    {
     "data": {
      "text/plain": [
       "Text(0, 0.5, 'Price in Pound')"
      ]
     },
     "execution_count": 9,
     "metadata": {},
     "output_type": "execute_result"
    },
    {
     "data": {
      "image/png": "[encoded data removed]",
      "text/plain": [
       "<Figure size 432x288 with 1 Axes>"
      ]
     },
     "metadata": {
      "needs_background": "light"
     },
     "output_type": "display_data"
    }
   ],
   "source": [
    "plotdata.plot(kind=\"bar\")\n",
    "plt.title(\"Statistical Comparision Of Product Price between Restaurants\")\n",
    "plt.xlabel(\"Restaurants\")\n",
    "plt.ylabel(\"Price in Pound\")"
   ]
  },
  {
   "cell_type": "code",
   "execution_count": 10,
   "id": "4b76d090",
   "metadata": {},
   "outputs": [
    {
     "name": "stdout",
     "output_type": "stream",
     "text": [
      "1007_Project.ipynb   README.md            requirements.txt\r\n",
      "New_code-Copy1.ipynb \u001b[34mdata\u001b[m\u001b[m\r\n",
      "New_code.ipynb       \u001b[34mnew_data\u001b[m\u001b[m\r\n"
     ]
    }
   ],
   "source": [
    "# q2\n",
    "!ls"
   ]
  },
  {
   "cell_type": "code",
   "execution_count": 11,
   "id": "408862b9",
   "metadata": {},
   "outputs": [
    {
     "name": "stdout",
     "output_type": "stream",
     "text": [
      "env: filename1=./restaurant-1-orders.csv\n",
      "env: filename2=./restaurant-2-orders.csv\n",
      "tail: ./restaurant-1-orders.csv: No such file or directory\n",
      "       0\n",
      "tail: ./restaurant-2-orders.csv: No such file or directory\n",
      "       0\n"
     ]
    }
   ],
   "source": [
    "%env filename1 = ./restaurant-1-orders.csv\n",
    "%env filename2 = ./restaurant-2-orders.csv\n",
    "# number of orders in restaurant 1 and 2\n",
    "!tail -n +2 $filename1 | cut -d ',' -f 1 | sort | uniq | wc -l\n",
    "!tail -n +2 $filename2 | cut -d ',' -f 1 | sort | uniq | wc -l"
   ]
  },
  {
   "cell_type": "code",
   "execution_count": 12,
   "id": "9523134d",
   "metadata": {},
   "outputs": [],
   "source": [
    "# q3\n",
    "\n",
    "# afforadable based on what? avg item price in an order?"
   ]
  },
  {
   "cell_type": "code",
   "execution_count": 13,
   "id": "6cd77155",
   "metadata": {},
   "outputs": [],
   "source": [
    "# q4\n",
    "\n",
    "# most and least popular based on existnace in each order? Or, the quantity ordered?"
   ]
  },
  {
   "cell_type": "code",
   "execution_count": 14,
   "id": "b1ececac",
   "metadata": {},
   "outputs": [
    {
     "data": {
      "text/plain": [
       "248"
      ]
     },
     "execution_count": 14,
     "metadata": {},
     "output_type": "execute_result"
    }
   ],
   "source": [
    "# q5\n",
    "n1 = len(pd.unique(orders_1_df['Item Name']))\n",
    "n1   # restaurant has 248 items -> all items have been ordered at least once"
   ]
  },
  {
   "cell_type": "code",
   "execution_count": 15,
   "id": "77c14c06",
   "metadata": {},
   "outputs": [
    {
     "data": {
      "text/html": [
       "<div>\n",
       "<style scoped>\n",
       "    .dataframe tbody tr th:only-of-type {\n",
       "        vertical-align: middle;\n",
       "    }\n",
       "\n",
       "    .dataframe tbody tr th {\n",
       "        vertical-align: top;\n",
       "    }\n",
       "\n",
       "    .dataframe thead th {\n",
       "        text-align: right;\n",
       "    }\n",
       "</style>\n",
       "<table border=\"1\" class=\"dataframe\">\n",
       "  <thead>\n",
       "    <tr style=\"text-align: right;\">\n",
       "      <th></th>\n",
       "      <th>Order Number</th>\n",
       "      <th>Order Date</th>\n",
       "      <th>Item Name</th>\n",
       "      <th>Quantity</th>\n",
       "      <th>Product Price_x</th>\n",
       "      <th>Total products</th>\n",
       "      <th>Product Price_y</th>\n",
       "      <th>_merge</th>\n",
       "    </tr>\n",
       "  </thead>\n",
       "  <tbody>\n",
       "    <tr>\n",
       "      <th>0</th>\n",
       "      <td>16118</td>\n",
       "      <td>03/08/2019 20:25</td>\n",
       "      <td>Plain Papadum</td>\n",
       "      <td>2</td>\n",
       "      <td>0.80</td>\n",
       "      <td>6</td>\n",
       "      <td>0.80</td>\n",
       "      <td>both</td>\n",
       "    </tr>\n",
       "    <tr>\n",
       "      <th>1</th>\n",
       "      <td>16118</td>\n",
       "      <td>03/08/2019 20:25</td>\n",
       "      <td>King Prawn Balti</td>\n",
       "      <td>1</td>\n",
       "      <td>12.95</td>\n",
       "      <td>6</td>\n",
       "      <td>12.95</td>\n",
       "      <td>both</td>\n",
       "    </tr>\n",
       "    <tr>\n",
       "      <th>2</th>\n",
       "      <td>16118</td>\n",
       "      <td>03/08/2019 20:25</td>\n",
       "      <td>Garlic Naan</td>\n",
       "      <td>1</td>\n",
       "      <td>2.95</td>\n",
       "      <td>6</td>\n",
       "      <td>2.95</td>\n",
       "      <td>both</td>\n",
       "    </tr>\n",
       "    <tr>\n",
       "      <th>3</th>\n",
       "      <td>16118</td>\n",
       "      <td>03/08/2019 20:25</td>\n",
       "      <td>Mushroom Rice</td>\n",
       "      <td>1</td>\n",
       "      <td>3.95</td>\n",
       "      <td>6</td>\n",
       "      <td>3.95</td>\n",
       "      <td>both</td>\n",
       "    </tr>\n",
       "    <tr>\n",
       "      <th>4</th>\n",
       "      <td>16118</td>\n",
       "      <td>03/08/2019 20:25</td>\n",
       "      <td>Paneer Tikka Masala</td>\n",
       "      <td>1</td>\n",
       "      <td>8.95</td>\n",
       "      <td>6</td>\n",
       "      <td>8.95</td>\n",
       "      <td>both</td>\n",
       "    </tr>\n",
       "  </tbody>\n",
       "</table>\n",
       "</div>"
      ],
      "text/plain": [
       "   Order Number        Order Date            Item Name  Quantity  \\\n",
       "0         16118  03/08/2019 20:25        Plain Papadum         2   \n",
       "1         16118  03/08/2019 20:25     King Prawn Balti         1   \n",
       "2         16118  03/08/2019 20:25          Garlic Naan         1   \n",
       "3         16118  03/08/2019 20:25        Mushroom Rice         1   \n",
       "4         16118  03/08/2019 20:25  Paneer Tikka Masala         1   \n",
       "\n",
       "   Product Price_x  Total products  Product Price_y _merge  \n",
       "0             0.80               6             0.80   both  \n",
       "1            12.95               6            12.95   both  \n",
       "2             2.95               6             2.95   both  \n",
       "3             3.95               6             3.95   both  \n",
       "4             8.95               6             8.95   both  "
      ]
     },
     "execution_count": 15,
     "metadata": {},
     "output_type": "execute_result"
    }
   ],
   "source": [
    "# Checking to see if all the item mentioned in the orders are actually on the list of items and their prices\n",
    "df_m = pd.merge(orders_1_df, products_price_1_df, on = 'Item Name', how = 'left', indicator = True )\n",
    "#df_m = df_m[df_m['_merge'] == 'left_only'] \n",
    "df_m.head()"
   ]
  },
  {
   "cell_type": "code",
   "execution_count": 16,
   "id": "e55a942e",
   "metadata": {},
   "outputs": [
    {
     "data": {
      "text/plain": [
       "['both']\n",
       "Categories (3, object): ['left_only', 'right_only', 'both']"
      ]
     },
     "execution_count": 16,
     "metadata": {},
     "output_type": "execute_result"
    }
   ],
   "source": [
    "pd.unique(df_m['_merge'])"
   ]
  },
  {
   "cell_type": "code",
   "execution_count": 17,
   "id": "089d6122",
   "metadata": {},
   "outputs": [
    {
     "data": {
      "text/plain": [
       "337"
      ]
     },
     "execution_count": 17,
     "metadata": {},
     "output_type": "execute_result"
    }
   ],
   "source": [
    "n2 = len(pd.unique(orders_2_df['Item Name']))\n",
    "n2   # restaurant 2 has 302 items on the menu\n",
    "# check if all the item mentioned in the orders are actually on the list of items and their prices"
   ]
  },
  {
   "cell_type": "code",
   "execution_count": 18,
   "id": "c02e164c",
   "metadata": {},
   "outputs": [
    {
     "data": {
      "text/html": [
       "<div>\n",
       "<style scoped>\n",
       "    .dataframe tbody tr th:only-of-type {\n",
       "        vertical-align: middle;\n",
       "    }\n",
       "\n",
       "    .dataframe tbody tr th {\n",
       "        vertical-align: top;\n",
       "    }\n",
       "\n",
       "    .dataframe thead th {\n",
       "        text-align: right;\n",
       "    }\n",
       "</style>\n",
       "<table border=\"1\" class=\"dataframe\">\n",
       "  <thead>\n",
       "    <tr style=\"text-align: right;\">\n",
       "      <th></th>\n",
       "      <th>Order ID</th>\n",
       "      <th>Order Date</th>\n",
       "      <th>Item Name</th>\n",
       "      <th>Quantity</th>\n",
       "      <th>Product Price_x</th>\n",
       "      <th>Total products</th>\n",
       "      <th>Product Price_y</th>\n",
       "      <th>_merge</th>\n",
       "    </tr>\n",
       "  </thead>\n",
       "  <tbody>\n",
       "    <tr>\n",
       "      <th>85089</th>\n",
       "      <td>17312</td>\n",
       "      <td>30/06/2018 20:10</td>\n",
       "      <td>Vindaloo  lamb</td>\n",
       "      <td>1</td>\n",
       "      <td>7.95</td>\n",
       "      <td>9</td>\n",
       "      <td>NaN</td>\n",
       "      <td>left_only</td>\n",
       "    </tr>\n",
       "    <tr>\n",
       "      <th>85090</th>\n",
       "      <td>17305</td>\n",
       "      <td>30/06/2018 19:14</td>\n",
       "      <td>Madras  chicken</td>\n",
       "      <td>2</td>\n",
       "      <td>7.95</td>\n",
       "      <td>7</td>\n",
       "      <td>NaN</td>\n",
       "      <td>left_only</td>\n",
       "    </tr>\n",
       "    <tr>\n",
       "      <th>85091</th>\n",
       "      <td>17291</td>\n",
       "      <td>30/06/2018 17:35</td>\n",
       "      <td>Curry  lamb</td>\n",
       "      <td>1</td>\n",
       "      <td>7.95</td>\n",
       "      <td>7</td>\n",
       "      <td>NaN</td>\n",
       "      <td>left_only</td>\n",
       "    </tr>\n",
       "    <tr>\n",
       "      <th>85092</th>\n",
       "      <td>17289</td>\n",
       "      <td>30/06/2018 16:50</td>\n",
       "      <td>Madras  lamb</td>\n",
       "      <td>1</td>\n",
       "      <td>7.95</td>\n",
       "      <td>4</td>\n",
       "      <td>NaN</td>\n",
       "      <td>left_only</td>\n",
       "    </tr>\n",
       "    <tr>\n",
       "      <th>85093</th>\n",
       "      <td>17288</td>\n",
       "      <td>30/06/2018 15:50</td>\n",
       "      <td>Madras  chicken</td>\n",
       "      <td>1</td>\n",
       "      <td>7.95</td>\n",
       "      <td>6</td>\n",
       "      <td>NaN</td>\n",
       "      <td>left_only</td>\n",
       "    </tr>\n",
       "    <tr>\n",
       "      <th>...</th>\n",
       "      <td>...</td>\n",
       "      <td>...</td>\n",
       "      <td>...</td>\n",
       "      <td>...</td>\n",
       "      <td>...</td>\n",
       "      <td>...</td>\n",
       "      <td>...</td>\n",
       "      <td>...</td>\n",
       "    </tr>\n",
       "    <tr>\n",
       "      <th>111753</th>\n",
       "      <td>16691</td>\n",
       "      <td>27/05/2018 18:36</td>\n",
       "      <td>Pathia  prawn</td>\n",
       "      <td>1</td>\n",
       "      <td>9.95</td>\n",
       "      <td>8</td>\n",
       "      <td>NaN</td>\n",
       "      <td>left_only</td>\n",
       "    </tr>\n",
       "    <tr>\n",
       "      <th>111777</th>\n",
       "      <td>16580</td>\n",
       "      <td>20/05/2018 20:45</td>\n",
       "      <td>Bhuna  prawn</td>\n",
       "      <td>1</td>\n",
       "      <td>9.95</td>\n",
       "      <td>10</td>\n",
       "      <td>NaN</td>\n",
       "      <td>left_only</td>\n",
       "    </tr>\n",
       "    <tr>\n",
       "      <th>111779</th>\n",
       "      <td>16575</td>\n",
       "      <td>20/05/2018 19:25</td>\n",
       "      <td>Dhansak  prawn</td>\n",
       "      <td>1</td>\n",
       "      <td>9.95</td>\n",
       "      <td>5</td>\n",
       "      <td>NaN</td>\n",
       "      <td>left_only</td>\n",
       "    </tr>\n",
       "    <tr>\n",
       "      <th>111907</th>\n",
       "      <td>16138</td>\n",
       "      <td>28/04/2018 19:05</td>\n",
       "      <td>Korma  prawn</td>\n",
       "      <td>1</td>\n",
       "      <td>9.95</td>\n",
       "      <td>5</td>\n",
       "      <td>NaN</td>\n",
       "      <td>left_only</td>\n",
       "    </tr>\n",
       "    <tr>\n",
       "      <th>111935</th>\n",
       "      <td>16044</td>\n",
       "      <td>24/04/2018 17:37</td>\n",
       "      <td>Korma  prawn</td>\n",
       "      <td>1</td>\n",
       "      <td>9.95</td>\n",
       "      <td>9</td>\n",
       "      <td>NaN</td>\n",
       "      <td>left_only</td>\n",
       "    </tr>\n",
       "  </tbody>\n",
       "</table>\n",
       "<p>765 rows × 8 columns</p>\n",
       "</div>"
      ],
      "text/plain": [
       "        Order ID        Order Date        Item Name  Quantity  \\\n",
       "85089      17312  30/06/2018 20:10   Vindaloo  lamb         1   \n",
       "85090      17305  30/06/2018 19:14  Madras  chicken         2   \n",
       "85091      17291  30/06/2018 17:35      Curry  lamb         1   \n",
       "85092      17289  30/06/2018 16:50     Madras  lamb         1   \n",
       "85093      17288  30/06/2018 15:50  Madras  chicken         1   \n",
       "...          ...               ...              ...       ...   \n",
       "111753     16691  27/05/2018 18:36    Pathia  prawn         1   \n",
       "111777     16580  20/05/2018 20:45     Bhuna  prawn         1   \n",
       "111779     16575  20/05/2018 19:25   Dhansak  prawn         1   \n",
       "111907     16138  28/04/2018 19:05     Korma  prawn         1   \n",
       "111935     16044  24/04/2018 17:37     Korma  prawn         1   \n",
       "\n",
       "        Product Price_x  Total products  Product Price_y     _merge  \n",
       "85089              7.95               9              NaN  left_only  \n",
       "85090              7.95               7              NaN  left_only  \n",
       "85091              7.95               7              NaN  left_only  \n",
       "85092              7.95               4              NaN  left_only  \n",
       "85093              7.95               6              NaN  left_only  \n",
       "...                 ...             ...              ...        ...  \n",
       "111753             9.95               8              NaN  left_only  \n",
       "111777             9.95              10              NaN  left_only  \n",
       "111779             9.95               5              NaN  left_only  \n",
       "111907             9.95               5              NaN  left_only  \n",
       "111935             9.95               9              NaN  left_only  \n",
       "\n",
       "[765 rows x 8 columns]"
      ]
     },
     "execution_count": 18,
     "metadata": {},
     "output_type": "execute_result"
    }
   ],
   "source": [
    "df_n = pd.merge(orders_2_df, products_price_2_df, on = 'Item Name', how = 'left', indicator = True )\n",
    "df_n = df_n[df_n['_merge'] == 'left_only'] \n",
    "df_n\n"
   ]
  },
  {
   "cell_type": "code",
   "execution_count": null,
   "id": "177c66d8",
   "metadata": {},
   "outputs": [],
   "source": []
  },
  {
   "cell_type": "code",
   "execution_count": 19,
   "id": "dcc1296b",
   "metadata": {
    "scrolled": true
   },
   "outputs": [
    {
     "data": {
      "text/plain": [
       "array(['Vindaloo  lamb', 'Madras  chicken', 'Curry  lamb', 'Madras  lamb',\n",
       "       'Curry  chicken', 'Vindaloo  chicken', 'Pathia  lamb',\n",
       "       'Korma  lamb', 'Korma  chicken', 'Rogon  chicken',\n",
       "       'Mushroom  chicken', 'Pathia  chicken', 'Bhuna  chicken',\n",
       "       'Mushroom  lamb', 'Dhansak  lamb', 'Saag  lamb', 'Rogon  lamb',\n",
       "       'Curry  prawn', 'Dhansak  chicken', 'Cylon  chicken',\n",
       "       'Bombay  chicken', 'Dupiaza  chicken', 'Bhuna  lamb',\n",
       "       'Dupiaza  lamb', 'Saag  chicken', 'Methi  chicken',\n",
       "       'Vindaloo  prawn', 'Malaya  chicken', 'Methi  lamb',\n",
       "       'Madras  prawn', 'Bhuna  prawn', 'Korma  prawn', 'Cylon  prawn',\n",
       "       'Pathia  prawn', 'Dhansak  prawn'], dtype=object)"
      ]
     },
     "execution_count": 19,
     "metadata": {},
     "output_type": "execute_result"
    }
   ],
   "source": [
    "pd.unique(df_n['Item Name'])\n",
    "# why are the 35 extra items not in the price list and exist in the orders 765 times?"
   ]
  },
  {
   "cell_type": "code",
   "execution_count": 20,
   "id": "b0bc828d",
   "metadata": {},
   "outputs": [
    {
     "data": {
      "text/plain": [
       "array(['Vindaloo  lamb', 'Madras  chicken', 'Curry  lamb', 'Madras  lamb',\n",
       "       'Curry  chicken', 'Vindaloo  chicken', 'Pathia  lamb',\n",
       "       'Korma  lamb', 'Korma  chicken', 'Rogon  chicken',\n",
       "       'Mushroom  chicken', 'Pathia  chicken', 'Bhuna  chicken',\n",
       "       'Mushroom  lamb', 'Dhansak  lamb', 'Saag  lamb', 'Rogon  lamb',\n",
       "       'Curry  prawn', 'Dhansak  chicken', 'Cylon  chicken',\n",
       "       'Bombay  chicken', 'Dupiaza  chicken', 'Bhuna  lamb',\n",
       "       'Dupiaza  lamb', 'Saag  chicken', 'Methi  chicken',\n",
       "       'Vindaloo  prawn', 'Malaya  chicken', 'Methi  lamb',\n",
       "       'Madras  prawn', 'Bhuna  prawn', 'Korma  prawn', 'Cylon  prawn',\n",
       "       'Pathia  prawn', 'Dhansak  prawn'], dtype=object)"
      ]
     },
     "execution_count": 20,
     "metadata": {},
     "output_type": "execute_result"
    }
   ],
   "source": [
    "pd.unique(df_n['Item Name'])\n",
    "# why are the 35 extra items not in the price list and exist in the orders 765 times?"
   ]
  },
  {
   "cell_type": "code",
   "execution_count": 21,
   "id": "3a011e5b",
   "metadata": {},
   "outputs": [],
   "source": [
    "# q6\n",
    "\n",
    "# Creat a new column and bucket the times for morning, lunch, dinner?\n",
    "# Most popular celebration dates?"
   ]
  },
  {
   "cell_type": "code",
   "execution_count": 22,
   "id": "b817823f",
   "metadata": {},
   "outputs": [],
   "source": [
    "# q7,8\n",
    "\n",
    "# Can't track reoccuring cutomers, as we only have orderID and no info about customer?"
   ]
  },
  {
   "cell_type": "code",
   "execution_count": 24,
   "id": "a9b1bcb3",
   "metadata": {},
   "outputs": [
    {
     "ename": "NameError",
     "evalue": "name 'data_popular_restaurant' is not defined",
     "output_type": "error",
     "traceback": [
      "\u001b[0;31m---------------------------------------------------------------------------\u001b[0m",
      "\u001b[0;31mNameError\u001b[0m                                 Traceback (most recent call last)",
      "Input \u001b[0;32mIn [24]\u001b[0m, in \u001b[0;36m<cell line: 1>\u001b[0;34m()\u001b[0m\n\u001b[0;32m----> 1\u001b[0m data_popular_restaurant_df \u001b[38;5;241m=\u001b[39m \u001b[43mdata_popular_restaurant\u001b[49m\u001b[38;5;241m.\u001b[39mdrop([\u001b[38;5;124m\"\u001b[39m\u001b[38;5;124mCountry Code\u001b[39m\u001b[38;5;124m\"\u001b[39m, \u001b[38;5;124m\"\u001b[39m\u001b[38;5;124mAddress\u001b[39m\u001b[38;5;124m\"\u001b[39m,\u001b[38;5;124m\"\u001b[39m\u001b[38;5;124mLocality Verbose\u001b[39m\u001b[38;5;124m\"\u001b[39m,\u001b[38;5;124m\"\u001b[39m\u001b[38;5;124mLongitude\u001b[39m\u001b[38;5;124m\"\u001b[39m,\u001b[38;5;124m\"\u001b[39m\u001b[38;5;124mLatitude\u001b[39m\u001b[38;5;124m\"\u001b[39m,\u001b[38;5;124m\"\u001b[39m\u001b[38;5;124mHas Table booking\u001b[39m\u001b[38;5;124m\"\u001b[39m,\u001b[38;5;124m\"\u001b[39m\u001b[38;5;124mIs delivering now\u001b[39m\u001b[38;5;124m\"\u001b[39m,\u001b[38;5;124m\"\u001b[39m\u001b[38;5;124mCurrency\u001b[39m\u001b[38;5;124m\"\u001b[39m,\u001b[38;5;124m\"\u001b[39m\u001b[38;5;124mSwitch to order menu\u001b[39m\u001b[38;5;124m\"\u001b[39m], axis \u001b[38;5;241m=\u001b[39m \u001b[38;5;241m1\u001b[39m)\n\u001b[1;32m      2\u001b[0m data_popular_restaurant_df\n",
      "\u001b[0;31mNameError\u001b[0m: name 'data_popular_restaurant' is not defined"
     ]
    }
   ],
   "source": [
    "data_popular_restaurant_df = data_popular_restaurant.drop([\"Country Code\", \"Address\",\"Locality Verbose\",\"Longitude\",\"Latitude\",\"Has Table booking\",\"Is delivering now\",\"Currency\",\"Switch to order menu\"], axis = 1)\n",
    "data_popular_restaurant_df"
   ]
  },
  {
   "cell_type": "code",
   "execution_count": 25,
   "id": "af56ea7f",
   "metadata": {},
   "outputs": [
    {
     "ename": "NameError",
     "evalue": "name 'data_popular_restaurant_df' is not defined",
     "output_type": "error",
     "traceback": [
      "\u001b[0;31m---------------------------------------------------------------------------\u001b[0m",
      "\u001b[0;31mNameError\u001b[0m                                 Traceback (most recent call last)",
      "Input \u001b[0;32mIn [25]\u001b[0m, in \u001b[0;36m<cell line: 1>\u001b[0;34m()\u001b[0m\n\u001b[0;32m----> 1\u001b[0m ratings \u001b[38;5;241m=\u001b[39m \u001b[43mdata_popular_restaurant_df\u001b[49m\u001b[38;5;241m.\u001b[39mgroupby([\u001b[38;5;124m'\u001b[39m\u001b[38;5;124mAggregate rating\u001b[39m\u001b[38;5;124m'\u001b[39m,\u001b[38;5;124m'\u001b[39m\u001b[38;5;124mRating color\u001b[39m\u001b[38;5;124m'\u001b[39m, \u001b[38;5;124m'\u001b[39m\u001b[38;5;124mRating text\u001b[39m\u001b[38;5;124m'\u001b[39m])\u001b[38;5;241m.\u001b[39msize()\u001b[38;5;241m.\u001b[39mreset_index()\u001b[38;5;241m.\u001b[39mrename(columns\u001b[38;5;241m=\u001b[39m{\u001b[38;5;241m0\u001b[39m:\u001b[38;5;124m'\u001b[39m\u001b[38;5;124mRating Count\u001b[39m\u001b[38;5;124m'\u001b[39m})\n\u001b[1;32m      2\u001b[0m ratings\n",
      "\u001b[0;31mNameError\u001b[0m: name 'data_popular_restaurant_df' is not defined"
     ]
    }
   ],
   "source": [
    "ratings = data_popular_restaurant_df.groupby(['Aggregate rating','Rating color', 'Rating text']).size().reset_index().rename(columns={0:'Rating Count'})\n",
    "ratings"
   ]
  },
  {
   "cell_type": "code",
   "execution_count": null,
   "id": "d5badfff",
   "metadata": {},
   "outputs": [],
   "source": []
  }
 ],
 "metadata": {
  "kernelspec": {
   "display_name": "Python 3 (ipykernel)",
   "language": "python",
   "name": "python3"
  },
  "language_info": {
   "codemirror_mode": {
    "name": "ipython",
    "version": 3
   },
   "file_extension": ".py",
   "mimetype": "text/x-python",
   "name": "python",
   "nbconvert_exporter": "python",
   "pygments_lexer": "ipython3",
   "version": "3.9.12"
  }
 },
 "nbformat": 4,
 "nbformat_minor": 5
}
